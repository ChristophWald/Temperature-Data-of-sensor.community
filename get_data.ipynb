{
 "cells": [
  {
   "cell_type": "code",
   "execution_count": 1,
   "id": "026d135f-98d1-4923-b186-0f0519bd06f0",
   "metadata": {},
   "outputs": [],
   "source": [
    "from influxdb import DataFrameClient\n",
    "from datetime import datetime, timedelta\n",
    "import pandas as pd\n",
    "import time"
   ]
  },
  {
   "cell_type": "code",
   "execution_count": 2,
   "id": "bd977c6a-2e17-4ec7-ab09-0054e7430425",
   "metadata": {
    "editable": true,
    "slideshow": {
     "slide_type": ""
    },
    "tags": []
   },
   "outputs": [],
   "source": [
    "#given by example to fetch the data\n",
    "def query_data(time_range=[\"\",\"\"],rectangle=[0,0,0,0]):\n",
    "    host='134.76.15.89'\n",
    "    user = 'ofread'\n",
    "    password = '9VpCm7wrfgBo'\n",
    "    dbname = 'openforecast'\n",
    "    protocol = 'line'\n",
    "    port=8086\n",
    "\n",
    "    print(time_range[0])\n",
    "    client = DataFrameClient(host, port, user, password, dbname, ssl=True, verify_ssl=False)\n",
    "\n",
    "    bind_params = {\n",
    "        \"start_time_epoch\": time_range[0],\n",
    "        \"end_time_epoch\": time_range[1]#,\n",
    "    #    \"sensor_id\": sensor_id\n",
    "    }\n",
    "\n",
    "    #measurement = \"P1,P2,temperature,humidity\"\n",
    "    measurement = \"temperature,lat,lon,sensor_id\"\n",
    "\n",
    "    query = f\"select {measurement} from sensor where \\\n",
    "                    time > $start_time_epoch AND \\\n",
    "                    time < $end_time_epoch AND \\\n",
    "                    lon > {rectangle[0]} AND lon < {rectangle[2]} AND \\\n",
    "                    lat > {rectangle[1]} AND lat < {rectangle[3]}\"\n",
    "    res=client.query(query, bind_params=bind_params)\n",
    "    if 'sensor' in res.keys():\n",
    "        return res['sensor']\n",
    "    else:\n",
    "        return {}"
   ]
  },
  {
   "cell_type": "code",
   "execution_count": 3,
   "id": "f83ec1a7-1f0e-41c9-925d-71cc2854eccf",
   "metadata": {
    "editable": true,
    "slideshow": {
     "slide_type": ""
    },
    "tags": []
   },
   "outputs": [],
   "source": [
    "#takes start date e.g. datetime(2016, 1, 1) and number of days n\n",
    "#returns days as time_range\n",
    "def generate_time_ranges(start_date,n):\n",
    "    for day in range(n):  \n",
    "        start_time = start_date + timedelta(days=day)\n",
    "        end_time = start_time + timedelta(days=1)\n",
    "        \n",
    "        time_range = [start_time.strftime('%Y-%m-%dT%H:%M:%SZ'), end_time.strftime('%Y-%m-%dT%H:%M:%SZ')]\n",
    "        yield time_range"
   ]
  },
  {
   "cell_type": "code",
   "execution_count": 4,
   "id": "e531ffd1-bbc0-4b0f-aa28-cce9b04f86fc",
   "metadata": {},
   "outputs": [],
   "source": [
    "#runs queries for a time_range\n",
    "def process_data(start_date, data, generate_time_ranges, query_data, num_days, rectangle):\n",
    "    for time_range in generate_time_ranges(start_date, num_days):\n",
    "        # Query data for the specified time range and rectangle\n",
    "        df = pd.DataFrame(query_data(time_range, rectangle))\n",
    "        # Append the aggregated data to the provided data list\n",
    "        data.append(df)\n",
    "\n"
   ]
  },
  {
   "cell_type": "code",
   "execution_count": 5,
   "id": "7d3294d6-7d9e-45e0-b8fa-ffd1bf9095f2",
   "metadata": {},
   "outputs": [
    {
     "name": "stdout",
     "output_type": "stream",
     "text": [
      "2020-01-01T00:00:00Z\n"
     ]
    },
    {
     "name": "stderr",
     "output_type": "stream",
     "text": [
      "/opt/conda/lib/python3.11/site-packages/urllib3/connectionpool.py:1099: InsecureRequestWarning: Unverified HTTPS request is being made to host '134.76.15.89'. Adding certificate verification is strongly advised. See: https://urllib3.readthedocs.io/en/latest/advanced-usage.html#tls-warnings\n",
      "  warnings.warn(\n"
     ]
    }
   ],
   "source": [
    "#Usage example:\n",
    "data = []\n",
    "rectangle = [13.3115, 52.4235, 13.5115, 52.6235]\n",
    "process_data(start_date=datetime(2020, 1, 1), data=data, generate_time_ranges=generate_time_ranges, query_data=query_data, num_days=1, rectangle=rectangle)\n"
   ]
  },
  {
   "cell_type": "code",
   "execution_count": 5,
   "id": "82f2ccc8-dde0-4a25-b77b-1136b59db180",
   "metadata": {},
   "outputs": [],
   "source": [
    "city_names = [\n",
    "    \"Tirane / Tirana\", \"Andorra la Vella\", \"Minsk\", \"Bruxelles / Brüssel\", \n",
    "    \"Sarajevo\", \"Sofiya / Sofia\", \"Kobenhavn / Kopenhagen\", \"Berlin\", \n",
    "    \"Tallinn\", \"Helsinki\", \"Paris\", \"Athinai / Athen\", \"London\", \"Dublin\", \n",
    "    \"Reykjavik\", \"Roma / Rom\", \"Prishtine / Pristina\", \"Zagreb\", \"Riga\", \n",
    "    \"Vaduz\", \"Vilnius\", \"Luxembourg / Luxemburg\", \"Valletta\", \"Chisinau\", \n",
    "    \"Monaco\", \"Podgorica\", \"Amsterdam\", \"Skopje\", \"Oslo\", \"Vienna / Wien\", \n",
    "    \"Warszawa / Warschau\", \"Lisboa / Lissabon\", \"Bucuresti / Bukarest\", \n",
    "    \"Moskva / Moskau\", \"San Marino\", \"Stockholm\", \"Bern\", \"Beograd / Belgrad\", \n",
    "    \"Bratislava\", \"Ljubljana\", \"Madrid\", \"Praha / Prag\", \"Kyiv / Kiew\", \n",
    "    \"Budapest\"\n",
    "]\n",
    "\n",
    "city_coordinates = [\n",
    "    [41.3317, 19.8172],\n",
    "    [42.5075, 1.5218],\n",
    "    [53.9678, 27.5766],\n",
    "    [50.8371, 4.3676],\n",
    "    [43.8608, 18.4214],\n",
    "    [42.7105, 23.3238],\n",
    "    [55.6763, 12.5681],\n",
    "    [52.5235, 13.4115],\n",
    "    [59.4389, 24.7545],\n",
    "    [60.1699, 24.9384],\n",
    "    [48.8567, 2.3510],\n",
    "    [37.9792, 23.7166],\n",
    "    [51.5002, -0.1262],\n",
    "    [53.3441, -6.2675],\n",
    "    [64.1353, -21.8952],\n",
    "    [41.8955, 12.4823],\n",
    "    [42.6740, 21.1788],\n",
    "    [45.8150, 15.9785],\n",
    "    [56.9465, 24.1049],\n",
    "    [47.1411, 9.5215],\n",
    "    [54.6896, 25.2799],\n",
    "    [49.6100, 6.1296],\n",
    "    [35.9042, 14.5189],\n",
    "    [47.0167, 28.8497],\n",
    "    [43.7325, 7.4189],\n",
    "    [42.4602, 19.2595],\n",
    "    [52.3738, 4.8910],\n",
    "    [42.0024, 21.4361],\n",
    "    [59.9138, 10.7387],\n",
    "    [48.2092, 16.3728],\n",
    "    [52.2297, 21.0122],\n",
    "    [38.7072, -9.1355],\n",
    "    [44.4479, 26.0979],\n",
    "    [55.7558, 37.6176],\n",
    "    [43.9424, 12.4578],\n",
    "    [59.3328, 18.0645],\n",
    "    [46.9480, 7.4481],\n",
    "    [44.8048, 20.4781],\n",
    "    [48.2116, 17.1547],\n",
    "    [46.0514, 14.5060],\n",
    "    [40.4167, -3.7033],\n",
    "    [50.0878, 14.4205],\n",
    "    [50.4422, 30.5367],\n",
    "    [47.4984, 19.0408]\n",
    "]"
   ]
  },
  {
   "cell_type": "code",
   "execution_count": 6,
   "id": "701feda4-ed10-4e67-8b0c-8ee28802cd80",
   "metadata": {},
   "outputs": [
    {
     "name": "stdout",
     "output_type": "stream",
     "text": [
      "Berlin [13.3115, 52.4235, 13.5115, 52.6235]\n"
     ]
    }
   ],
   "source": [
    "#europe_capitals = [[v[1], v[0]] for v in city_coordinates] #switch coordinates\n",
    "rectangles = []\n",
    "for c in city_coordinates:\n",
    "    rectangles.append([c[1]-0.1, c[0]-0.1, c[1]+0.1, c[0]+0.1])\n",
    "print(city_names[7], rectangles[7])"
   ]
  },
  {
   "cell_type": "code",
   "execution_count": 7,
   "id": "39b3786f-6db6-4b91-8ea1-85968298f5d6",
   "metadata": {
    "scrolled": true
   },
   "outputs": [
    {
     "name": "stdout",
     "output_type": "stream",
     "text": [
      "2022-10-15T00:00:00Z\n"
     ]
    },
    {
     "name": "stderr",
     "output_type": "stream",
     "text": [
      "/opt/conda/lib/python3.11/site-packages/urllib3/connectionpool.py:1099: InsecureRequestWarning: Unverified HTTPS request is being made to host '134.76.15.89'. Adding certificate verification is strongly advised. See: https://urllib3.readthedocs.io/en/latest/advanced-usage.html#tls-warnings\n",
      "  warnings.warn(\n"
     ]
    },
    {
     "name": "stdout",
     "output_type": "stream",
     "text": [
      "2022-10-16T00:00:00Z\n"
     ]
    },
    {
     "name": "stderr",
     "output_type": "stream",
     "text": [
      "/opt/conda/lib/python3.11/site-packages/urllib3/connectionpool.py:1099: InsecureRequestWarning: Unverified HTTPS request is being made to host '134.76.15.89'. Adding certificate verification is strongly advised. See: https://urllib3.readthedocs.io/en/latest/advanced-usage.html#tls-warnings\n",
      "  warnings.warn(\n"
     ]
    },
    {
     "name": "stdout",
     "output_type": "stream",
     "text": [
      "2022-10-17T00:00:00Z\n"
     ]
    },
    {
     "name": "stderr",
     "output_type": "stream",
     "text": [
      "/opt/conda/lib/python3.11/site-packages/urllib3/connectionpool.py:1099: InsecureRequestWarning: Unverified HTTPS request is being made to host '134.76.15.89'. Adding certificate verification is strongly advised. See: https://urllib3.readthedocs.io/en/latest/advanced-usage.html#tls-warnings\n",
      "  warnings.warn(\n"
     ]
    },
    {
     "name": "stdout",
     "output_type": "stream",
     "text": [
      "2022-10-18T00:00:00Z\n"
     ]
    },
    {
     "name": "stderr",
     "output_type": "stream",
     "text": [
      "/opt/conda/lib/python3.11/site-packages/urllib3/connectionpool.py:1099: InsecureRequestWarning: Unverified HTTPS request is being made to host '134.76.15.89'. Adding certificate verification is strongly advised. See: https://urllib3.readthedocs.io/en/latest/advanced-usage.html#tls-warnings\n",
      "  warnings.warn(\n"
     ]
    },
    {
     "name": "stdout",
     "output_type": "stream",
     "text": [
      "2022-10-19T00:00:00Z\n"
     ]
    },
    {
     "name": "stderr",
     "output_type": "stream",
     "text": [
      "/opt/conda/lib/python3.11/site-packages/urllib3/connectionpool.py:1099: InsecureRequestWarning: Unverified HTTPS request is being made to host '134.76.15.89'. Adding certificate verification is strongly advised. See: https://urllib3.readthedocs.io/en/latest/advanced-usage.html#tls-warnings\n",
      "  warnings.warn(\n"
     ]
    },
    {
     "name": "stdout",
     "output_type": "stream",
     "text": [
      "2022-10-20T00:00:00Z\n"
     ]
    },
    {
     "name": "stderr",
     "output_type": "stream",
     "text": [
      "/opt/conda/lib/python3.11/site-packages/urllib3/connectionpool.py:1099: InsecureRequestWarning: Unverified HTTPS request is being made to host '134.76.15.89'. Adding certificate verification is strongly advised. See: https://urllib3.readthedocs.io/en/latest/advanced-usage.html#tls-warnings\n",
      "  warnings.warn(\n"
     ]
    },
    {
     "name": "stdout",
     "output_type": "stream",
     "text": [
      "2022-10-21T00:00:00Z\n"
     ]
    },
    {
     "name": "stderr",
     "output_type": "stream",
     "text": [
      "/opt/conda/lib/python3.11/site-packages/urllib3/connectionpool.py:1099: InsecureRequestWarning: Unverified HTTPS request is being made to host '134.76.15.89'. Adding certificate verification is strongly advised. See: https://urllib3.readthedocs.io/en/latest/advanced-usage.html#tls-warnings\n",
      "  warnings.warn(\n"
     ]
    },
    {
     "name": "stdout",
     "output_type": "stream",
     "text": [
      "2022-10-22T00:00:00Z\n"
     ]
    },
    {
     "name": "stderr",
     "output_type": "stream",
     "text": [
      "/opt/conda/lib/python3.11/site-packages/urllib3/connectionpool.py:1099: InsecureRequestWarning: Unverified HTTPS request is being made to host '134.76.15.89'. Adding certificate verification is strongly advised. See: https://urllib3.readthedocs.io/en/latest/advanced-usage.html#tls-warnings\n",
      "  warnings.warn(\n"
     ]
    },
    {
     "name": "stdout",
     "output_type": "stream",
     "text": [
      "2022-10-23T00:00:00Z\n"
     ]
    },
    {
     "name": "stderr",
     "output_type": "stream",
     "text": [
      "/opt/conda/lib/python3.11/site-packages/urllib3/connectionpool.py:1099: InsecureRequestWarning: Unverified HTTPS request is being made to host '134.76.15.89'. Adding certificate verification is strongly advised. See: https://urllib3.readthedocs.io/en/latest/advanced-usage.html#tls-warnings\n",
      "  warnings.warn(\n"
     ]
    },
    {
     "name": "stdout",
     "output_type": "stream",
     "text": [
      "2022-10-24T00:00:00Z\n"
     ]
    },
    {
     "name": "stderr",
     "output_type": "stream",
     "text": [
      "/opt/conda/lib/python3.11/site-packages/urllib3/connectionpool.py:1099: InsecureRequestWarning: Unverified HTTPS request is being made to host '134.76.15.89'. Adding certificate verification is strongly advised. See: https://urllib3.readthedocs.io/en/latest/advanced-usage.html#tls-warnings\n",
      "  warnings.warn(\n"
     ]
    },
    {
     "name": "stdout",
     "output_type": "stream",
     "text": [
      "2022-10-25T00:00:00Z\n"
     ]
    },
    {
     "name": "stderr",
     "output_type": "stream",
     "text": [
      "/opt/conda/lib/python3.11/site-packages/urllib3/connectionpool.py:1099: InsecureRequestWarning: Unverified HTTPS request is being made to host '134.76.15.89'. Adding certificate verification is strongly advised. See: https://urllib3.readthedocs.io/en/latest/advanced-usage.html#tls-warnings\n",
      "  warnings.warn(\n"
     ]
    },
    {
     "name": "stdout",
     "output_type": "stream",
     "text": [
      "2022-10-26T00:00:00Z\n"
     ]
    },
    {
     "name": "stderr",
     "output_type": "stream",
     "text": [
      "/opt/conda/lib/python3.11/site-packages/urllib3/connectionpool.py:1099: InsecureRequestWarning: Unverified HTTPS request is being made to host '134.76.15.89'. Adding certificate verification is strongly advised. See: https://urllib3.readthedocs.io/en/latest/advanced-usage.html#tls-warnings\n",
      "  warnings.warn(\n"
     ]
    },
    {
     "name": "stdout",
     "output_type": "stream",
     "text": [
      "2022-10-27T00:00:00Z\n"
     ]
    },
    {
     "name": "stderr",
     "output_type": "stream",
     "text": [
      "/opt/conda/lib/python3.11/site-packages/urllib3/connectionpool.py:1099: InsecureRequestWarning: Unverified HTTPS request is being made to host '134.76.15.89'. Adding certificate verification is strongly advised. See: https://urllib3.readthedocs.io/en/latest/advanced-usage.html#tls-warnings\n",
      "  warnings.warn(\n"
     ]
    },
    {
     "name": "stdout",
     "output_type": "stream",
     "text": [
      "2022-10-28T00:00:00Z\n"
     ]
    },
    {
     "name": "stderr",
     "output_type": "stream",
     "text": [
      "/opt/conda/lib/python3.11/site-packages/urllib3/connectionpool.py:1099: InsecureRequestWarning: Unverified HTTPS request is being made to host '134.76.15.89'. Adding certificate verification is strongly advised. See: https://urllib3.readthedocs.io/en/latest/advanced-usage.html#tls-warnings\n",
      "  warnings.warn(\n"
     ]
    },
    {
     "name": "stdout",
     "output_type": "stream",
     "text": [
      "2022-10-29T00:00:00Z\n"
     ]
    },
    {
     "name": "stderr",
     "output_type": "stream",
     "text": [
      "/opt/conda/lib/python3.11/site-packages/urllib3/connectionpool.py:1099: InsecureRequestWarning: Unverified HTTPS request is being made to host '134.76.15.89'. Adding certificate verification is strongly advised. See: https://urllib3.readthedocs.io/en/latest/advanced-usage.html#tls-warnings\n",
      "  warnings.warn(\n"
     ]
    },
    {
     "name": "stdout",
     "output_type": "stream",
     "text": [
      "2022-10-30T00:00:00Z\n"
     ]
    },
    {
     "name": "stderr",
     "output_type": "stream",
     "text": [
      "/opt/conda/lib/python3.11/site-packages/urllib3/connectionpool.py:1099: InsecureRequestWarning: Unverified HTTPS request is being made to host '134.76.15.89'. Adding certificate verification is strongly advised. See: https://urllib3.readthedocs.io/en/latest/advanced-usage.html#tls-warnings\n",
      "  warnings.warn(\n"
     ]
    },
    {
     "name": "stdout",
     "output_type": "stream",
     "text": [
      "2022-10-31T00:00:00Z\n"
     ]
    },
    {
     "name": "stderr",
     "output_type": "stream",
     "text": [
      "/opt/conda/lib/python3.11/site-packages/urllib3/connectionpool.py:1099: InsecureRequestWarning: Unverified HTTPS request is being made to host '134.76.15.89'. Adding certificate verification is strongly advised. See: https://urllib3.readthedocs.io/en/latest/advanced-usage.html#tls-warnings\n",
      "  warnings.warn(\n"
     ]
    },
    {
     "name": "stdout",
     "output_type": "stream",
     "text": [
      "2022-11-01T00:00:00Z\n"
     ]
    },
    {
     "name": "stderr",
     "output_type": "stream",
     "text": [
      "/opt/conda/lib/python3.11/site-packages/urllib3/connectionpool.py:1099: InsecureRequestWarning: Unverified HTTPS request is being made to host '134.76.15.89'. Adding certificate verification is strongly advised. See: https://urllib3.readthedocs.io/en/latest/advanced-usage.html#tls-warnings\n",
      "  warnings.warn(\n"
     ]
    },
    {
     "name": "stdout",
     "output_type": "stream",
     "text": [
      "2022-11-02T00:00:00Z\n"
     ]
    },
    {
     "name": "stderr",
     "output_type": "stream",
     "text": [
      "/opt/conda/lib/python3.11/site-packages/urllib3/connectionpool.py:1099: InsecureRequestWarning: Unverified HTTPS request is being made to host '134.76.15.89'. Adding certificate verification is strongly advised. See: https://urllib3.readthedocs.io/en/latest/advanced-usage.html#tls-warnings\n",
      "  warnings.warn(\n"
     ]
    },
    {
     "name": "stdout",
     "output_type": "stream",
     "text": [
      "2022-11-03T00:00:00Z\n"
     ]
    },
    {
     "name": "stderr",
     "output_type": "stream",
     "text": [
      "/opt/conda/lib/python3.11/site-packages/urllib3/connectionpool.py:1099: InsecureRequestWarning: Unverified HTTPS request is being made to host '134.76.15.89'. Adding certificate verification is strongly advised. See: https://urllib3.readthedocs.io/en/latest/advanced-usage.html#tls-warnings\n",
      "  warnings.warn(\n"
     ]
    },
    {
     "name": "stdout",
     "output_type": "stream",
     "text": [
      "2022-11-04T00:00:00Z\n"
     ]
    },
    {
     "name": "stderr",
     "output_type": "stream",
     "text": [
      "/opt/conda/lib/python3.11/site-packages/urllib3/connectionpool.py:1099: InsecureRequestWarning: Unverified HTTPS request is being made to host '134.76.15.89'. Adding certificate verification is strongly advised. See: https://urllib3.readthedocs.io/en/latest/advanced-usage.html#tls-warnings\n",
      "  warnings.warn(\n"
     ]
    },
    {
     "name": "stdout",
     "output_type": "stream",
     "text": [
      "2022-11-05T00:00:00Z\n"
     ]
    },
    {
     "name": "stderr",
     "output_type": "stream",
     "text": [
      "/opt/conda/lib/python3.11/site-packages/urllib3/connectionpool.py:1099: InsecureRequestWarning: Unverified HTTPS request is being made to host '134.76.15.89'. Adding certificate verification is strongly advised. See: https://urllib3.readthedocs.io/en/latest/advanced-usage.html#tls-warnings\n",
      "  warnings.warn(\n"
     ]
    },
    {
     "name": "stdout",
     "output_type": "stream",
     "text": [
      "2022-11-06T00:00:00Z\n"
     ]
    },
    {
     "name": "stderr",
     "output_type": "stream",
     "text": [
      "/opt/conda/lib/python3.11/site-packages/urllib3/connectionpool.py:1099: InsecureRequestWarning: Unverified HTTPS request is being made to host '134.76.15.89'. Adding certificate verification is strongly advised. See: https://urllib3.readthedocs.io/en/latest/advanced-usage.html#tls-warnings\n",
      "  warnings.warn(\n"
     ]
    },
    {
     "name": "stdout",
     "output_type": "stream",
     "text": [
      "2022-11-07T00:00:00Z\n"
     ]
    },
    {
     "name": "stderr",
     "output_type": "stream",
     "text": [
      "/opt/conda/lib/python3.11/site-packages/urllib3/connectionpool.py:1099: InsecureRequestWarning: Unverified HTTPS request is being made to host '134.76.15.89'. Adding certificate verification is strongly advised. See: https://urllib3.readthedocs.io/en/latest/advanced-usage.html#tls-warnings\n",
      "  warnings.warn(\n"
     ]
    },
    {
     "name": "stdout",
     "output_type": "stream",
     "text": [
      "2022-11-08T00:00:00Z\n"
     ]
    },
    {
     "name": "stderr",
     "output_type": "stream",
     "text": [
      "/opt/conda/lib/python3.11/site-packages/urllib3/connectionpool.py:1099: InsecureRequestWarning: Unverified HTTPS request is being made to host '134.76.15.89'. Adding certificate verification is strongly advised. See: https://urllib3.readthedocs.io/en/latest/advanced-usage.html#tls-warnings\n",
      "  warnings.warn(\n"
     ]
    },
    {
     "name": "stdout",
     "output_type": "stream",
     "text": [
      "2022-11-09T00:00:00Z\n"
     ]
    },
    {
     "name": "stderr",
     "output_type": "stream",
     "text": [
      "/opt/conda/lib/python3.11/site-packages/urllib3/connectionpool.py:1099: InsecureRequestWarning: Unverified HTTPS request is being made to host '134.76.15.89'. Adding certificate verification is strongly advised. See: https://urllib3.readthedocs.io/en/latest/advanced-usage.html#tls-warnings\n",
      "  warnings.warn(\n"
     ]
    },
    {
     "name": "stdout",
     "output_type": "stream",
     "text": [
      "2022-11-10T00:00:00Z\n"
     ]
    },
    {
     "name": "stderr",
     "output_type": "stream",
     "text": [
      "/opt/conda/lib/python3.11/site-packages/urllib3/connectionpool.py:1099: InsecureRequestWarning: Unverified HTTPS request is being made to host '134.76.15.89'. Adding certificate verification is strongly advised. See: https://urllib3.readthedocs.io/en/latest/advanced-usage.html#tls-warnings\n",
      "  warnings.warn(\n"
     ]
    },
    {
     "name": "stdout",
     "output_type": "stream",
     "text": [
      "2022-11-11T00:00:00Z\n"
     ]
    },
    {
     "name": "stderr",
     "output_type": "stream",
     "text": [
      "/opt/conda/lib/python3.11/site-packages/urllib3/connectionpool.py:1099: InsecureRequestWarning: Unverified HTTPS request is being made to host '134.76.15.89'. Adding certificate verification is strongly advised. See: https://urllib3.readthedocs.io/en/latest/advanced-usage.html#tls-warnings\n",
      "  warnings.warn(\n"
     ]
    },
    {
     "name": "stdout",
     "output_type": "stream",
     "text": [
      "2022-11-12T00:00:00Z\n"
     ]
    },
    {
     "name": "stderr",
     "output_type": "stream",
     "text": [
      "/opt/conda/lib/python3.11/site-packages/urllib3/connectionpool.py:1099: InsecureRequestWarning: Unverified HTTPS request is being made to host '134.76.15.89'. Adding certificate verification is strongly advised. See: https://urllib3.readthedocs.io/en/latest/advanced-usage.html#tls-warnings\n",
      "  warnings.warn(\n"
     ]
    },
    {
     "name": "stdout",
     "output_type": "stream",
     "text": [
      "2022-11-13T00:00:00Z\n"
     ]
    },
    {
     "name": "stderr",
     "output_type": "stream",
     "text": [
      "/opt/conda/lib/python3.11/site-packages/urllib3/connectionpool.py:1099: InsecureRequestWarning: Unverified HTTPS request is being made to host '134.76.15.89'. Adding certificate verification is strongly advised. See: https://urllib3.readthedocs.io/en/latest/advanced-usage.html#tls-warnings\n",
      "  warnings.warn(\n"
     ]
    },
    {
     "name": "stdout",
     "output_type": "stream",
     "text": [
      "2022-11-14T00:00:00Z\n"
     ]
    },
    {
     "name": "stderr",
     "output_type": "stream",
     "text": [
      "/opt/conda/lib/python3.11/site-packages/urllib3/connectionpool.py:1099: InsecureRequestWarning: Unverified HTTPS request is being made to host '134.76.15.89'. Adding certificate verification is strongly advised. See: https://urllib3.readthedocs.io/en/latest/advanced-usage.html#tls-warnings\n",
      "  warnings.warn(\n"
     ]
    },
    {
     "name": "stdout",
     "output_type": "stream",
     "text": [
      "2022-11-15T00:00:00Z\n"
     ]
    },
    {
     "name": "stderr",
     "output_type": "stream",
     "text": [
      "/opt/conda/lib/python3.11/site-packages/urllib3/connectionpool.py:1099: InsecureRequestWarning: Unverified HTTPS request is being made to host '134.76.15.89'. Adding certificate verification is strongly advised. See: https://urllib3.readthedocs.io/en/latest/advanced-usage.html#tls-warnings\n",
      "  warnings.warn(\n"
     ]
    },
    {
     "name": "stdout",
     "output_type": "stream",
     "text": [
      "2022-11-16T00:00:00Z\n"
     ]
    },
    {
     "name": "stderr",
     "output_type": "stream",
     "text": [
      "/opt/conda/lib/python3.11/site-packages/urllib3/connectionpool.py:1099: InsecureRequestWarning: Unverified HTTPS request is being made to host '134.76.15.89'. Adding certificate verification is strongly advised. See: https://urllib3.readthedocs.io/en/latest/advanced-usage.html#tls-warnings\n",
      "  warnings.warn(\n"
     ]
    },
    {
     "name": "stdout",
     "output_type": "stream",
     "text": [
      "2022-11-17T00:00:00Z\n"
     ]
    },
    {
     "name": "stderr",
     "output_type": "stream",
     "text": [
      "/opt/conda/lib/python3.11/site-packages/urllib3/connectionpool.py:1099: InsecureRequestWarning: Unverified HTTPS request is being made to host '134.76.15.89'. Adding certificate verification is strongly advised. See: https://urllib3.readthedocs.io/en/latest/advanced-usage.html#tls-warnings\n",
      "  warnings.warn(\n"
     ]
    },
    {
     "name": "stdout",
     "output_type": "stream",
     "text": [
      "2022-11-18T00:00:00Z\n"
     ]
    },
    {
     "name": "stderr",
     "output_type": "stream",
     "text": [
      "/opt/conda/lib/python3.11/site-packages/urllib3/connectionpool.py:1099: InsecureRequestWarning: Unverified HTTPS request is being made to host '134.76.15.89'. Adding certificate verification is strongly advised. See: https://urllib3.readthedocs.io/en/latest/advanced-usage.html#tls-warnings\n",
      "  warnings.warn(\n"
     ]
    },
    {
     "name": "stdout",
     "output_type": "stream",
     "text": [
      "2022-11-19T00:00:00Z\n"
     ]
    },
    {
     "name": "stderr",
     "output_type": "stream",
     "text": [
      "/opt/conda/lib/python3.11/site-packages/urllib3/connectionpool.py:1099: InsecureRequestWarning: Unverified HTTPS request is being made to host '134.76.15.89'. Adding certificate verification is strongly advised. See: https://urllib3.readthedocs.io/en/latest/advanced-usage.html#tls-warnings\n",
      "  warnings.warn(\n"
     ]
    },
    {
     "name": "stdout",
     "output_type": "stream",
     "text": [
      "2022-11-20T00:00:00Z\n"
     ]
    },
    {
     "name": "stderr",
     "output_type": "stream",
     "text": [
      "/opt/conda/lib/python3.11/site-packages/urllib3/connectionpool.py:1099: InsecureRequestWarning: Unverified HTTPS request is being made to host '134.76.15.89'. Adding certificate verification is strongly advised. See: https://urllib3.readthedocs.io/en/latest/advanced-usage.html#tls-warnings\n",
      "  warnings.warn(\n"
     ]
    },
    {
     "name": "stdout",
     "output_type": "stream",
     "text": [
      "2022-11-21T00:00:00Z\n"
     ]
    },
    {
     "name": "stderr",
     "output_type": "stream",
     "text": [
      "/opt/conda/lib/python3.11/site-packages/urllib3/connectionpool.py:1099: InsecureRequestWarning: Unverified HTTPS request is being made to host '134.76.15.89'. Adding certificate verification is strongly advised. See: https://urllib3.readthedocs.io/en/latest/advanced-usage.html#tls-warnings\n",
      "  warnings.warn(\n"
     ]
    },
    {
     "name": "stdout",
     "output_type": "stream",
     "text": [
      "2022-11-22T00:00:00Z\n"
     ]
    },
    {
     "name": "stderr",
     "output_type": "stream",
     "text": [
      "/opt/conda/lib/python3.11/site-packages/urllib3/connectionpool.py:1099: InsecureRequestWarning: Unverified HTTPS request is being made to host '134.76.15.89'. Adding certificate verification is strongly advised. See: https://urllib3.readthedocs.io/en/latest/advanced-usage.html#tls-warnings\n",
      "  warnings.warn(\n"
     ]
    },
    {
     "name": "stdout",
     "output_type": "stream",
     "text": [
      "2022-11-23T00:00:00Z\n"
     ]
    },
    {
     "name": "stderr",
     "output_type": "stream",
     "text": [
      "/opt/conda/lib/python3.11/site-packages/urllib3/connectionpool.py:1099: InsecureRequestWarning: Unverified HTTPS request is being made to host '134.76.15.89'. Adding certificate verification is strongly advised. See: https://urllib3.readthedocs.io/en/latest/advanced-usage.html#tls-warnings\n",
      "  warnings.warn(\n"
     ]
    },
    {
     "name": "stdout",
     "output_type": "stream",
     "text": [
      "2022-11-24T00:00:00Z\n"
     ]
    },
    {
     "name": "stderr",
     "output_type": "stream",
     "text": [
      "/opt/conda/lib/python3.11/site-packages/urllib3/connectionpool.py:1099: InsecureRequestWarning: Unverified HTTPS request is being made to host '134.76.15.89'. Adding certificate verification is strongly advised. See: https://urllib3.readthedocs.io/en/latest/advanced-usage.html#tls-warnings\n",
      "  warnings.warn(\n"
     ]
    },
    {
     "name": "stdout",
     "output_type": "stream",
     "text": [
      "2022-11-25T00:00:00Z\n"
     ]
    },
    {
     "name": "stderr",
     "output_type": "stream",
     "text": [
      "/opt/conda/lib/python3.11/site-packages/urllib3/connectionpool.py:1099: InsecureRequestWarning: Unverified HTTPS request is being made to host '134.76.15.89'. Adding certificate verification is strongly advised. See: https://urllib3.readthedocs.io/en/latest/advanced-usage.html#tls-warnings\n",
      "  warnings.warn(\n"
     ]
    },
    {
     "name": "stdout",
     "output_type": "stream",
     "text": [
      "2022-11-26T00:00:00Z\n"
     ]
    },
    {
     "name": "stderr",
     "output_type": "stream",
     "text": [
      "/opt/conda/lib/python3.11/site-packages/urllib3/connectionpool.py:1099: InsecureRequestWarning: Unverified HTTPS request is being made to host '134.76.15.89'. Adding certificate verification is strongly advised. See: https://urllib3.readthedocs.io/en/latest/advanced-usage.html#tls-warnings\n",
      "  warnings.warn(\n"
     ]
    },
    {
     "name": "stdout",
     "output_type": "stream",
     "text": [
      "2022-11-27T00:00:00Z\n"
     ]
    },
    {
     "name": "stderr",
     "output_type": "stream",
     "text": [
      "/opt/conda/lib/python3.11/site-packages/urllib3/connectionpool.py:1099: InsecureRequestWarning: Unverified HTTPS request is being made to host '134.76.15.89'. Adding certificate verification is strongly advised. See: https://urllib3.readthedocs.io/en/latest/advanced-usage.html#tls-warnings\n",
      "  warnings.warn(\n"
     ]
    },
    {
     "name": "stdout",
     "output_type": "stream",
     "text": [
      "2022-11-28T00:00:00Z\n"
     ]
    },
    {
     "name": "stderr",
     "output_type": "stream",
     "text": [
      "/opt/conda/lib/python3.11/site-packages/urllib3/connectionpool.py:1099: InsecureRequestWarning: Unverified HTTPS request is being made to host '134.76.15.89'. Adding certificate verification is strongly advised. See: https://urllib3.readthedocs.io/en/latest/advanced-usage.html#tls-warnings\n",
      "  warnings.warn(\n"
     ]
    },
    {
     "name": "stdout",
     "output_type": "stream",
     "text": [
      "2022-11-29T00:00:00Z\n"
     ]
    },
    {
     "name": "stderr",
     "output_type": "stream",
     "text": [
      "/opt/conda/lib/python3.11/site-packages/urllib3/connectionpool.py:1099: InsecureRequestWarning: Unverified HTTPS request is being made to host '134.76.15.89'. Adding certificate verification is strongly advised. See: https://urllib3.readthedocs.io/en/latest/advanced-usage.html#tls-warnings\n",
      "  warnings.warn(\n"
     ]
    },
    {
     "name": "stdout",
     "output_type": "stream",
     "text": [
      "2022-11-30T00:00:00Z\n"
     ]
    },
    {
     "name": "stderr",
     "output_type": "stream",
     "text": [
      "/opt/conda/lib/python3.11/site-packages/urllib3/connectionpool.py:1099: InsecureRequestWarning: Unverified HTTPS request is being made to host '134.76.15.89'. Adding certificate verification is strongly advised. See: https://urllib3.readthedocs.io/en/latest/advanced-usage.html#tls-warnings\n",
      "  warnings.warn(\n"
     ]
    },
    {
     "name": "stdout",
     "output_type": "stream",
     "text": [
      "2022-12-01T00:00:00Z\n"
     ]
    },
    {
     "name": "stderr",
     "output_type": "stream",
     "text": [
      "/opt/conda/lib/python3.11/site-packages/urllib3/connectionpool.py:1099: InsecureRequestWarning: Unverified HTTPS request is being made to host '134.76.15.89'. Adding certificate verification is strongly advised. See: https://urllib3.readthedocs.io/en/latest/advanced-usage.html#tls-warnings\n",
      "  warnings.warn(\n"
     ]
    },
    {
     "name": "stdout",
     "output_type": "stream",
     "text": [
      "2022-12-02T00:00:00Z\n"
     ]
    },
    {
     "name": "stderr",
     "output_type": "stream",
     "text": [
      "/opt/conda/lib/python3.11/site-packages/urllib3/connectionpool.py:1099: InsecureRequestWarning: Unverified HTTPS request is being made to host '134.76.15.89'. Adding certificate verification is strongly advised. See: https://urllib3.readthedocs.io/en/latest/advanced-usage.html#tls-warnings\n",
      "  warnings.warn(\n"
     ]
    },
    {
     "name": "stdout",
     "output_type": "stream",
     "text": [
      "2022-12-03T00:00:00Z\n"
     ]
    },
    {
     "name": "stderr",
     "output_type": "stream",
     "text": [
      "/opt/conda/lib/python3.11/site-packages/urllib3/connectionpool.py:1099: InsecureRequestWarning: Unverified HTTPS request is being made to host '134.76.15.89'. Adding certificate verification is strongly advised. See: https://urllib3.readthedocs.io/en/latest/advanced-usage.html#tls-warnings\n",
      "  warnings.warn(\n"
     ]
    },
    {
     "name": "stdout",
     "output_type": "stream",
     "text": [
      "2022-12-04T00:00:00Z\n"
     ]
    },
    {
     "name": "stderr",
     "output_type": "stream",
     "text": [
      "/opt/conda/lib/python3.11/site-packages/urllib3/connectionpool.py:1099: InsecureRequestWarning: Unverified HTTPS request is being made to host '134.76.15.89'. Adding certificate verification is strongly advised. See: https://urllib3.readthedocs.io/en/latest/advanced-usage.html#tls-warnings\n",
      "  warnings.warn(\n"
     ]
    },
    {
     "name": "stdout",
     "output_type": "stream",
     "text": [
      "2022-12-05T00:00:00Z\n"
     ]
    },
    {
     "name": "stderr",
     "output_type": "stream",
     "text": [
      "/opt/conda/lib/python3.11/site-packages/urllib3/connectionpool.py:1099: InsecureRequestWarning: Unverified HTTPS request is being made to host '134.76.15.89'. Adding certificate verification is strongly advised. See: https://urllib3.readthedocs.io/en/latest/advanced-usage.html#tls-warnings\n",
      "  warnings.warn(\n"
     ]
    },
    {
     "name": "stdout",
     "output_type": "stream",
     "text": [
      "2022-12-06T00:00:00Z\n"
     ]
    },
    {
     "name": "stderr",
     "output_type": "stream",
     "text": [
      "/opt/conda/lib/python3.11/site-packages/urllib3/connectionpool.py:1099: InsecureRequestWarning: Unverified HTTPS request is being made to host '134.76.15.89'. Adding certificate verification is strongly advised. See: https://urllib3.readthedocs.io/en/latest/advanced-usage.html#tls-warnings\n",
      "  warnings.warn(\n"
     ]
    },
    {
     "name": "stdout",
     "output_type": "stream",
     "text": [
      "2022-12-07T00:00:00Z\n"
     ]
    },
    {
     "name": "stderr",
     "output_type": "stream",
     "text": [
      "/opt/conda/lib/python3.11/site-packages/urllib3/connectionpool.py:1099: InsecureRequestWarning: Unverified HTTPS request is being made to host '134.76.15.89'. Adding certificate verification is strongly advised. See: https://urllib3.readthedocs.io/en/latest/advanced-usage.html#tls-warnings\n",
      "  warnings.warn(\n"
     ]
    },
    {
     "name": "stdout",
     "output_type": "stream",
     "text": [
      "2022-12-08T00:00:00Z\n"
     ]
    },
    {
     "name": "stderr",
     "output_type": "stream",
     "text": [
      "/opt/conda/lib/python3.11/site-packages/urllib3/connectionpool.py:1099: InsecureRequestWarning: Unverified HTTPS request is being made to host '134.76.15.89'. Adding certificate verification is strongly advised. See: https://urllib3.readthedocs.io/en/latest/advanced-usage.html#tls-warnings\n",
      "  warnings.warn(\n"
     ]
    },
    {
     "name": "stdout",
     "output_type": "stream",
     "text": [
      "2022-12-09T00:00:00Z\n"
     ]
    },
    {
     "name": "stderr",
     "output_type": "stream",
     "text": [
      "/opt/conda/lib/python3.11/site-packages/urllib3/connectionpool.py:1099: InsecureRequestWarning: Unverified HTTPS request is being made to host '134.76.15.89'. Adding certificate verification is strongly advised. See: https://urllib3.readthedocs.io/en/latest/advanced-usage.html#tls-warnings\n",
      "  warnings.warn(\n"
     ]
    },
    {
     "name": "stdout",
     "output_type": "stream",
     "text": [
      "2022-12-10T00:00:00Z\n"
     ]
    },
    {
     "name": "stderr",
     "output_type": "stream",
     "text": [
      "/opt/conda/lib/python3.11/site-packages/urllib3/connectionpool.py:1099: InsecureRequestWarning: Unverified HTTPS request is being made to host '134.76.15.89'. Adding certificate verification is strongly advised. See: https://urllib3.readthedocs.io/en/latest/advanced-usage.html#tls-warnings\n",
      "  warnings.warn(\n"
     ]
    },
    {
     "name": "stdout",
     "output_type": "stream",
     "text": [
      "2022-12-11T00:00:00Z\n"
     ]
    },
    {
     "name": "stderr",
     "output_type": "stream",
     "text": [
      "/opt/conda/lib/python3.11/site-packages/urllib3/connectionpool.py:1099: InsecureRequestWarning: Unverified HTTPS request is being made to host '134.76.15.89'. Adding certificate verification is strongly advised. See: https://urllib3.readthedocs.io/en/latest/advanced-usage.html#tls-warnings\n",
      "  warnings.warn(\n"
     ]
    },
    {
     "name": "stdout",
     "output_type": "stream",
     "text": [
      "2022-12-12T00:00:00Z\n"
     ]
    },
    {
     "name": "stderr",
     "output_type": "stream",
     "text": [
      "/opt/conda/lib/python3.11/site-packages/urllib3/connectionpool.py:1099: InsecureRequestWarning: Unverified HTTPS request is being made to host '134.76.15.89'. Adding certificate verification is strongly advised. See: https://urllib3.readthedocs.io/en/latest/advanced-usage.html#tls-warnings\n",
      "  warnings.warn(\n"
     ]
    },
    {
     "name": "stdout",
     "output_type": "stream",
     "text": [
      "2022-12-13T00:00:00Z\n"
     ]
    },
    {
     "name": "stderr",
     "output_type": "stream",
     "text": [
      "/opt/conda/lib/python3.11/site-packages/urllib3/connectionpool.py:1099: InsecureRequestWarning: Unverified HTTPS request is being made to host '134.76.15.89'. Adding certificate verification is strongly advised. See: https://urllib3.readthedocs.io/en/latest/advanced-usage.html#tls-warnings\n",
      "  warnings.warn(\n"
     ]
    },
    {
     "name": "stdout",
     "output_type": "stream",
     "text": [
      "2022-12-14T00:00:00Z\n"
     ]
    },
    {
     "name": "stderr",
     "output_type": "stream",
     "text": [
      "/opt/conda/lib/python3.11/site-packages/urllib3/connectionpool.py:1099: InsecureRequestWarning: Unverified HTTPS request is being made to host '134.76.15.89'. Adding certificate verification is strongly advised. See: https://urllib3.readthedocs.io/en/latest/advanced-usage.html#tls-warnings\n",
      "  warnings.warn(\n"
     ]
    },
    {
     "name": "stdout",
     "output_type": "stream",
     "text": [
      "2022-12-15T00:00:00Z\n"
     ]
    },
    {
     "name": "stderr",
     "output_type": "stream",
     "text": [
      "/opt/conda/lib/python3.11/site-packages/urllib3/connectionpool.py:1099: InsecureRequestWarning: Unverified HTTPS request is being made to host '134.76.15.89'. Adding certificate verification is strongly advised. See: https://urllib3.readthedocs.io/en/latest/advanced-usage.html#tls-warnings\n",
      "  warnings.warn(\n"
     ]
    },
    {
     "name": "stdout",
     "output_type": "stream",
     "text": [
      "2022-12-16T00:00:00Z\n"
     ]
    },
    {
     "name": "stderr",
     "output_type": "stream",
     "text": [
      "/opt/conda/lib/python3.11/site-packages/urllib3/connectionpool.py:1099: InsecureRequestWarning: Unverified HTTPS request is being made to host '134.76.15.89'. Adding certificate verification is strongly advised. See: https://urllib3.readthedocs.io/en/latest/advanced-usage.html#tls-warnings\n",
      "  warnings.warn(\n"
     ]
    },
    {
     "name": "stdout",
     "output_type": "stream",
     "text": [
      "2022-12-17T00:00:00Z\n"
     ]
    },
    {
     "name": "stderr",
     "output_type": "stream",
     "text": [
      "/opt/conda/lib/python3.11/site-packages/urllib3/connectionpool.py:1099: InsecureRequestWarning: Unverified HTTPS request is being made to host '134.76.15.89'. Adding certificate verification is strongly advised. See: https://urllib3.readthedocs.io/en/latest/advanced-usage.html#tls-warnings\n",
      "  warnings.warn(\n"
     ]
    },
    {
     "name": "stdout",
     "output_type": "stream",
     "text": [
      "2022-12-18T00:00:00Z\n"
     ]
    },
    {
     "name": "stderr",
     "output_type": "stream",
     "text": [
      "/opt/conda/lib/python3.11/site-packages/urllib3/connectionpool.py:1099: InsecureRequestWarning: Unverified HTTPS request is being made to host '134.76.15.89'. Adding certificate verification is strongly advised. See: https://urllib3.readthedocs.io/en/latest/advanced-usage.html#tls-warnings\n",
      "  warnings.warn(\n"
     ]
    },
    {
     "name": "stdout",
     "output_type": "stream",
     "text": [
      "2022-12-19T00:00:00Z\n"
     ]
    },
    {
     "name": "stderr",
     "output_type": "stream",
     "text": [
      "/opt/conda/lib/python3.11/site-packages/urllib3/connectionpool.py:1099: InsecureRequestWarning: Unverified HTTPS request is being made to host '134.76.15.89'. Adding certificate verification is strongly advised. See: https://urllib3.readthedocs.io/en/latest/advanced-usage.html#tls-warnings\n",
      "  warnings.warn(\n"
     ]
    },
    {
     "name": "stdout",
     "output_type": "stream",
     "text": [
      "2022-12-20T00:00:00Z\n"
     ]
    },
    {
     "name": "stderr",
     "output_type": "stream",
     "text": [
      "/opt/conda/lib/python3.11/site-packages/urllib3/connectionpool.py:1099: InsecureRequestWarning: Unverified HTTPS request is being made to host '134.76.15.89'. Adding certificate verification is strongly advised. See: https://urllib3.readthedocs.io/en/latest/advanced-usage.html#tls-warnings\n",
      "  warnings.warn(\n"
     ]
    },
    {
     "name": "stdout",
     "output_type": "stream",
     "text": [
      "2022-12-21T00:00:00Z\n"
     ]
    },
    {
     "name": "stderr",
     "output_type": "stream",
     "text": [
      "/opt/conda/lib/python3.11/site-packages/urllib3/connectionpool.py:1099: InsecureRequestWarning: Unverified HTTPS request is being made to host '134.76.15.89'. Adding certificate verification is strongly advised. See: https://urllib3.readthedocs.io/en/latest/advanced-usage.html#tls-warnings\n",
      "  warnings.warn(\n"
     ]
    },
    {
     "name": "stdout",
     "output_type": "stream",
     "text": [
      "2022-12-22T00:00:00Z\n"
     ]
    },
    {
     "name": "stderr",
     "output_type": "stream",
     "text": [
      "/opt/conda/lib/python3.11/site-packages/urllib3/connectionpool.py:1099: InsecureRequestWarning: Unverified HTTPS request is being made to host '134.76.15.89'. Adding certificate verification is strongly advised. See: https://urllib3.readthedocs.io/en/latest/advanced-usage.html#tls-warnings\n",
      "  warnings.warn(\n"
     ]
    },
    {
     "name": "stdout",
     "output_type": "stream",
     "text": [
      "2022-12-23T00:00:00Z\n"
     ]
    },
    {
     "name": "stderr",
     "output_type": "stream",
     "text": [
      "/opt/conda/lib/python3.11/site-packages/urllib3/connectionpool.py:1099: InsecureRequestWarning: Unverified HTTPS request is being made to host '134.76.15.89'. Adding certificate verification is strongly advised. See: https://urllib3.readthedocs.io/en/latest/advanced-usage.html#tls-warnings\n",
      "  warnings.warn(\n"
     ]
    },
    {
     "name": "stdout",
     "output_type": "stream",
     "text": [
      "2022-12-24T00:00:00Z\n"
     ]
    },
    {
     "name": "stderr",
     "output_type": "stream",
     "text": [
      "/opt/conda/lib/python3.11/site-packages/urllib3/connectionpool.py:1099: InsecureRequestWarning: Unverified HTTPS request is being made to host '134.76.15.89'. Adding certificate verification is strongly advised. See: https://urllib3.readthedocs.io/en/latest/advanced-usage.html#tls-warnings\n",
      "  warnings.warn(\n"
     ]
    },
    {
     "name": "stdout",
     "output_type": "stream",
     "text": [
      "2022-12-25T00:00:00Z\n"
     ]
    },
    {
     "name": "stderr",
     "output_type": "stream",
     "text": [
      "/opt/conda/lib/python3.11/site-packages/urllib3/connectionpool.py:1099: InsecureRequestWarning: Unverified HTTPS request is being made to host '134.76.15.89'. Adding certificate verification is strongly advised. See: https://urllib3.readthedocs.io/en/latest/advanced-usage.html#tls-warnings\n",
      "  warnings.warn(\n"
     ]
    },
    {
     "name": "stdout",
     "output_type": "stream",
     "text": [
      "2022-12-26T00:00:00Z\n"
     ]
    },
    {
     "name": "stderr",
     "output_type": "stream",
     "text": [
      "/opt/conda/lib/python3.11/site-packages/urllib3/connectionpool.py:1099: InsecureRequestWarning: Unverified HTTPS request is being made to host '134.76.15.89'. Adding certificate verification is strongly advised. See: https://urllib3.readthedocs.io/en/latest/advanced-usage.html#tls-warnings\n",
      "  warnings.warn(\n"
     ]
    },
    {
     "name": "stdout",
     "output_type": "stream",
     "text": [
      "2022-12-27T00:00:00Z\n"
     ]
    },
    {
     "name": "stderr",
     "output_type": "stream",
     "text": [
      "/opt/conda/lib/python3.11/site-packages/urllib3/connectionpool.py:1099: InsecureRequestWarning: Unverified HTTPS request is being made to host '134.76.15.89'. Adding certificate verification is strongly advised. See: https://urllib3.readthedocs.io/en/latest/advanced-usage.html#tls-warnings\n",
      "  warnings.warn(\n"
     ]
    },
    {
     "name": "stdout",
     "output_type": "stream",
     "text": [
      "2022-12-28T00:00:00Z\n"
     ]
    },
    {
     "name": "stderr",
     "output_type": "stream",
     "text": [
      "/opt/conda/lib/python3.11/site-packages/urllib3/connectionpool.py:1099: InsecureRequestWarning: Unverified HTTPS request is being made to host '134.76.15.89'. Adding certificate verification is strongly advised. See: https://urllib3.readthedocs.io/en/latest/advanced-usage.html#tls-warnings\n",
      "  warnings.warn(\n"
     ]
    },
    {
     "name": "stdout",
     "output_type": "stream",
     "text": [
      "2022-12-29T00:00:00Z\n"
     ]
    },
    {
     "name": "stderr",
     "output_type": "stream",
     "text": [
      "/opt/conda/lib/python3.11/site-packages/urllib3/connectionpool.py:1099: InsecureRequestWarning: Unverified HTTPS request is being made to host '134.76.15.89'. Adding certificate verification is strongly advised. See: https://urllib3.readthedocs.io/en/latest/advanced-usage.html#tls-warnings\n",
      "  warnings.warn(\n"
     ]
    },
    {
     "name": "stdout",
     "output_type": "stream",
     "text": [
      "2022-12-30T00:00:00Z\n"
     ]
    },
    {
     "name": "stderr",
     "output_type": "stream",
     "text": [
      "/opt/conda/lib/python3.11/site-packages/urllib3/connectionpool.py:1099: InsecureRequestWarning: Unverified HTTPS request is being made to host '134.76.15.89'. Adding certificate verification is strongly advised. See: https://urllib3.readthedocs.io/en/latest/advanced-usage.html#tls-warnings\n",
      "  warnings.warn(\n"
     ]
    },
    {
     "name": "stdout",
     "output_type": "stream",
     "text": [
      "2022-12-31T00:00:00Z\n"
     ]
    },
    {
     "name": "stderr",
     "output_type": "stream",
     "text": [
      "/opt/conda/lib/python3.11/site-packages/urllib3/connectionpool.py:1099: InsecureRequestWarning: Unverified HTTPS request is being made to host '134.76.15.89'. Adding certificate verification is strongly advised. See: https://urllib3.readthedocs.io/en/latest/advanced-usage.html#tls-warnings\n",
      "  warnings.warn(\n"
     ]
    },
    {
     "name": "stdout",
     "output_type": "stream",
     "text": [
      "1733.556993484497\n"
     ]
    }
   ],
   "source": [
    "#main routine \n",
    "\n",
    "start_time = time.time()\n",
    "\n",
    "#Usage example:\n",
    "data = []\n",
    "start_date = datetime(2022,10,15)\n",
    "rectangle = rectangles[7]\n",
    "num_days = 78\n",
    "process_data(\n",
    "    start_date=start_date, \n",
    "    data=data, \n",
    "    generate_time_ranges=generate_time_ranges, \n",
    "    query_data=query_data, \n",
    "    num_days=num_days, \n",
    "    rectangle=rectangle)\n",
    "\n",
    "end_time= time.time()\n",
    "print(end_time-start_time)"
   ]
  },
  {
   "cell_type": "code",
   "execution_count": 8,
   "id": "64167fa3-5e62-4874-b666-b4247bfb3acd",
   "metadata": {},
   "outputs": [
    {
     "data": {
      "text/plain": [
       "102"
      ]
     },
     "execution_count": 8,
     "metadata": {},
     "output_type": "execute_result"
    }
   ],
   "source": [
    "len(data)"
   ]
  },
  {
   "cell_type": "code",
   "execution_count": 9,
   "id": "ed425bc8-9f1c-42dd-861a-6606a43ad05b",
   "metadata": {},
   "outputs": [
    {
     "data": {
      "text/html": [
       "<div>\n",
       "<style scoped>\n",
       "    .dataframe tbody tr th:only-of-type {\n",
       "        vertical-align: middle;\n",
       "    }\n",
       "\n",
       "    .dataframe tbody tr th {\n",
       "        vertical-align: top;\n",
       "    }\n",
       "\n",
       "    .dataframe thead th {\n",
       "        text-align: right;\n",
       "    }\n",
       "</style>\n",
       "<table border=\"1\" class=\"dataframe\">\n",
       "  <thead>\n",
       "    <tr style=\"text-align: right;\">\n",
       "      <th></th>\n",
       "      <th>temperature</th>\n",
       "      <th>lat</th>\n",
       "      <th>lon</th>\n",
       "      <th>sensor_id</th>\n",
       "    </tr>\n",
       "  </thead>\n",
       "  <tbody>\n",
       "    <tr>\n",
       "      <th>2022-10-14 00:00:01+00:00</th>\n",
       "      <td>NaN</td>\n",
       "      <td>52.560000</td>\n",
       "      <td>13.374000</td>\n",
       "      <td>2055</td>\n",
       "    </tr>\n",
       "    <tr>\n",
       "      <th>2022-10-14 00:00:01+00:00</th>\n",
       "      <td>NaN</td>\n",
       "      <td>52.477976</td>\n",
       "      <td>13.385483</td>\n",
       "      <td>64413</td>\n",
       "    </tr>\n",
       "    <tr>\n",
       "      <th>2022-10-14 00:00:01+00:00</th>\n",
       "      <td>10.40</td>\n",
       "      <td>52.477976</td>\n",
       "      <td>13.385483</td>\n",
       "      <td>64414</td>\n",
       "    </tr>\n",
       "    <tr>\n",
       "      <th>2022-10-14 00:00:02+00:00</th>\n",
       "      <td>10.50</td>\n",
       "      <td>52.560000</td>\n",
       "      <td>13.374000</td>\n",
       "      <td>2056</td>\n",
       "    </tr>\n",
       "    <tr>\n",
       "      <th>2022-10-14 00:00:03+00:00</th>\n",
       "      <td>10.55</td>\n",
       "      <td>52.560000</td>\n",
       "      <td>13.374000</td>\n",
       "      <td>67015</td>\n",
       "    </tr>\n",
       "    <tr>\n",
       "      <th>...</th>\n",
       "      <td>...</td>\n",
       "      <td>...</td>\n",
       "      <td>...</td>\n",
       "      <td>...</td>\n",
       "    </tr>\n",
       "    <tr>\n",
       "      <th>2022-10-14 23:59:55+00:00</th>\n",
       "      <td>13.40</td>\n",
       "      <td>52.467103</td>\n",
       "      <td>13.436735</td>\n",
       "      <td>46404</td>\n",
       "    </tr>\n",
       "    <tr>\n",
       "      <th>2022-10-14 23:59:55+00:00</th>\n",
       "      <td>NaN</td>\n",
       "      <td>52.467103</td>\n",
       "      <td>13.436735</td>\n",
       "      <td>46403</td>\n",
       "    </tr>\n",
       "    <tr>\n",
       "      <th>2022-10-14 23:59:56+00:00</th>\n",
       "      <td>NaN</td>\n",
       "      <td>52.523424</td>\n",
       "      <td>13.402184</td>\n",
       "      <td>74986</td>\n",
       "    </tr>\n",
       "    <tr>\n",
       "      <th>2022-10-14 23:59:58+00:00</th>\n",
       "      <td>14.30</td>\n",
       "      <td>52.530000</td>\n",
       "      <td>13.390000</td>\n",
       "      <td>19728</td>\n",
       "    </tr>\n",
       "    <tr>\n",
       "      <th>2022-10-14 23:59:58+00:00</th>\n",
       "      <td>NaN</td>\n",
       "      <td>52.530000</td>\n",
       "      <td>13.390000</td>\n",
       "      <td>19727</td>\n",
       "    </tr>\n",
       "  </tbody>\n",
       "</table>\n",
       "<p>183418 rows × 4 columns</p>\n",
       "</div>"
      ],
      "text/plain": [
       "                           temperature        lat        lon sensor_id\n",
       "2022-10-14 00:00:01+00:00          NaN  52.560000  13.374000      2055\n",
       "2022-10-14 00:00:01+00:00          NaN  52.477976  13.385483     64413\n",
       "2022-10-14 00:00:01+00:00        10.40  52.477976  13.385483     64414\n",
       "2022-10-14 00:00:02+00:00        10.50  52.560000  13.374000      2056\n",
       "2022-10-14 00:00:03+00:00        10.55  52.560000  13.374000     67015\n",
       "...                                ...        ...        ...       ...\n",
       "2022-10-14 23:59:55+00:00        13.40  52.467103  13.436735     46404\n",
       "2022-10-14 23:59:55+00:00          NaN  52.467103  13.436735     46403\n",
       "2022-10-14 23:59:56+00:00          NaN  52.523424  13.402184     74986\n",
       "2022-10-14 23:59:58+00:00        14.30  52.530000  13.390000     19728\n",
       "2022-10-14 23:59:58+00:00          NaN  52.530000  13.390000     19727\n",
       "\n",
       "[183418 rows x 4 columns]"
      ]
     },
     "execution_count": 9,
     "metadata": {},
     "output_type": "execute_result"
    }
   ],
   "source": [
    "data[-1]"
   ]
  },
  {
   "cell_type": "markdown",
   "id": "b39c9efa-5cb6-4907-bfce-753c52dbed47",
   "metadata": {},
   "source": [
    "### Taking hourly means per sensors and save"
   ]
  },
  {
   "cell_type": "code",
   "execution_count": 8,
   "id": "4d8b9d36-feb8-40a0-9f7e-9cf909b7bdb7",
   "metadata": {},
   "outputs": [],
   "source": [
    "df_list = []\n",
    "for l in data:\n",
    "    df_list.append(pd.DataFrame(l))\n",
    "df = pd.concat(df_list, ignore_index=False)\n",
    "df = df.dropna(subset=['temperature'])\n",
    "df['date'] = df.index.date\n",
    "df['hour'] = df.index.hour\n",
    "\n",
    "# 2. Group by 'date' and 'sensor_id' and calculate the required statistics\n",
    "aggregated = df.groupby(['date','hour','sensor_id']).agg(\n",
    "    temperature_mean=('temperature', 'mean'),\n",
    "    lat=('lat', 'first'),  # Assuming lat doesn't change for a sensor\n",
    "    lon=('lon', 'first')   # Assuming lon doesn't change for a sensor\n",
    ").reset_index()\n",
    "\n",
    "# 3. Optionally, if you want the 'date' column to be in datetime format\n",
    "aggregated['date'] = pd.to_datetime(aggregated['date'])\n",
    "aggregated.to_csv('berlin2022c.csv')"
   ]
  },
  {
   "cell_type": "code",
   "execution_count": null,
   "id": "720f810c-f6b9-4fa6-be90-9926a9fe500e",
   "metadata": {},
   "outputs": [],
   "source": []
  },
  {
   "cell_type": "markdown",
   "id": "d40a5596-e9da-4d2c-902f-ca2f1ea51aa1",
   "metadata": {},
   "source": [
    "### Appendix: hourly means"
   ]
  },
  {
   "cell_type": "code",
   "execution_count": 7,
   "id": "11a14125-9107-42fe-8859-ddecf8cb6bb1",
   "metadata": {},
   "outputs": [
    {
     "name": "stdout",
     "output_type": "stream",
     "text": [
      "2020-01-01T00:00:00Z\n"
     ]
    },
    {
     "name": "stderr",
     "output_type": "stream",
     "text": [
      "/opt/conda/lib/python3.11/site-packages/urllib3/connectionpool.py:1099: InsecureRequestWarning: Unverified HTTPS request is being made to host '134.76.15.89'. Adding certificate verification is strongly advised. See: https://urllib3.readthedocs.io/en/latest/advanced-usage.html#tls-warnings\n",
      "  warnings.warn(\n"
     ]
    },
    {
     "data": {
      "text/html": [
       "<div>\n",
       "<style scoped>\n",
       "    .dataframe tbody tr th:only-of-type {\n",
       "        vertical-align: middle;\n",
       "    }\n",
       "\n",
       "    .dataframe tbody tr th {\n",
       "        vertical-align: top;\n",
       "    }\n",
       "\n",
       "    .dataframe thead th {\n",
       "        text-align: right;\n",
       "    }\n",
       "</style>\n",
       "<table border=\"1\" class=\"dataframe\">\n",
       "  <thead>\n",
       "    <tr style=\"text-align: right;\">\n",
       "      <th></th>\n",
       "      <th>temperature</th>\n",
       "      <th>lat</th>\n",
       "      <th>lon</th>\n",
       "      <th>sensor_id</th>\n",
       "    </tr>\n",
       "  </thead>\n",
       "  <tbody>\n",
       "    <tr>\n",
       "      <th>2020-01-01 00:00:01+00:00</th>\n",
       "      <td>6.49</td>\n",
       "      <td>52.582000</td>\n",
       "      <td>13.406000</td>\n",
       "      <td>37450</td>\n",
       "    </tr>\n",
       "    <tr>\n",
       "      <th>2020-01-01 00:00:02+00:00</th>\n",
       "      <td>NaN</td>\n",
       "      <td>52.532000</td>\n",
       "      <td>13.436000</td>\n",
       "      <td>4337</td>\n",
       "    </tr>\n",
       "    <tr>\n",
       "      <th>2020-01-01 00:00:04+00:00</th>\n",
       "      <td>NaN</td>\n",
       "      <td>52.462000</td>\n",
       "      <td>13.416000</td>\n",
       "      <td>31996</td>\n",
       "    </tr>\n",
       "    <tr>\n",
       "      <th>2020-01-01 00:00:04+00:00</th>\n",
       "      <td>NaN</td>\n",
       "      <td>52.564698</td>\n",
       "      <td>13.400098</td>\n",
       "      <td>34174</td>\n",
       "    </tr>\n",
       "    <tr>\n",
       "      <th>2020-01-01 00:00:05+00:00</th>\n",
       "      <td>5.20</td>\n",
       "      <td>52.462000</td>\n",
       "      <td>13.416000</td>\n",
       "      <td>31997</td>\n",
       "    </tr>\n",
       "    <tr>\n",
       "      <th>...</th>\n",
       "      <td>...</td>\n",
       "      <td>...</td>\n",
       "      <td>...</td>\n",
       "      <td>...</td>\n",
       "    </tr>\n",
       "    <tr>\n",
       "      <th>2020-01-01 00:59:57+00:00</th>\n",
       "      <td>NaN</td>\n",
       "      <td>52.496000</td>\n",
       "      <td>13.338000</td>\n",
       "      <td>1444</td>\n",
       "    </tr>\n",
       "    <tr>\n",
       "      <th>2020-01-01 00:59:58+00:00</th>\n",
       "      <td>5.30</td>\n",
       "      <td>52.480000</td>\n",
       "      <td>13.350000</td>\n",
       "      <td>9406</td>\n",
       "    </tr>\n",
       "    <tr>\n",
       "      <th>2020-01-01 00:59:59+00:00</th>\n",
       "      <td>NaN</td>\n",
       "      <td>52.566000</td>\n",
       "      <td>13.346000</td>\n",
       "      <td>34775</td>\n",
       "    </tr>\n",
       "    <tr>\n",
       "      <th>2020-01-01 00:59:59+00:00</th>\n",
       "      <td>6.90</td>\n",
       "      <td>52.556000</td>\n",
       "      <td>13.394000</td>\n",
       "      <td>2116</td>\n",
       "    </tr>\n",
       "    <tr>\n",
       "      <th>2020-01-01 00:59:59+00:00</th>\n",
       "      <td>NaN</td>\n",
       "      <td>52.556000</td>\n",
       "      <td>13.394000</td>\n",
       "      <td>2115</td>\n",
       "    </tr>\n",
       "  </tbody>\n",
       "</table>\n",
       "<p>8894 rows × 4 columns</p>\n",
       "</div>"
      ],
      "text/plain": [
       "                           temperature        lat        lon sensor_id\n",
       "2020-01-01 00:00:01+00:00         6.49  52.582000  13.406000     37450\n",
       "2020-01-01 00:00:02+00:00          NaN  52.532000  13.436000      4337\n",
       "2020-01-01 00:00:04+00:00          NaN  52.462000  13.416000     31996\n",
       "2020-01-01 00:00:04+00:00          NaN  52.564698  13.400098     34174\n",
       "2020-01-01 00:00:05+00:00         5.20  52.462000  13.416000     31997\n",
       "...                                ...        ...        ...       ...\n",
       "2020-01-01 00:59:57+00:00          NaN  52.496000  13.338000      1444\n",
       "2020-01-01 00:59:58+00:00         5.30  52.480000  13.350000      9406\n",
       "2020-01-01 00:59:59+00:00          NaN  52.566000  13.346000     34775\n",
       "2020-01-01 00:59:59+00:00         6.90  52.556000  13.394000      2116\n",
       "2020-01-01 00:59:59+00:00          NaN  52.556000  13.394000      2115\n",
       "\n",
       "[8894 rows x 4 columns]"
      ]
     },
     "execution_count": 7,
     "metadata": {},
     "output_type": "execute_result"
    }
   ],
   "source": [
    "#fetch raw example data (1 hour Berlin)\n",
    "time_range=['2020-01-01T00:00:00Z', '2020-01-01T01:00:00Z']\n",
    "rectangle=[13.3115, 52.4235, 13.5115, 52.6235]\n",
    "raw = query_data(time_range,rectangle)\n",
    "raw"
   ]
  },
  {
   "cell_type": "code",
   "execution_count": 8,
   "id": "b8da4bde-c5ab-41b9-b845-e30a1c86d6fd",
   "metadata": {},
   "outputs": [
    {
     "data": {
      "text/html": [
       "<div>\n",
       "<style scoped>\n",
       "    .dataframe tbody tr th:only-of-type {\n",
       "        vertical-align: middle;\n",
       "    }\n",
       "\n",
       "    .dataframe tbody tr th {\n",
       "        vertical-align: top;\n",
       "    }\n",
       "\n",
       "    .dataframe thead th {\n",
       "        text-align: right;\n",
       "    }\n",
       "</style>\n",
       "<table border=\"1\" class=\"dataframe\">\n",
       "  <thead>\n",
       "    <tr style=\"text-align: right;\">\n",
       "      <th></th>\n",
       "      <th>Unnamed: 0.1</th>\n",
       "      <th>Unnamed: 0</th>\n",
       "      <th>date</th>\n",
       "      <th>hour</th>\n",
       "      <th>sensor_id</th>\n",
       "      <th>temperature_mean</th>\n",
       "      <th>lat</th>\n",
       "      <th>lon</th>\n",
       "    </tr>\n",
       "  </thead>\n",
       "  <tbody>\n",
       "    <tr>\n",
       "      <th>0</th>\n",
       "      <td>0</td>\n",
       "      <td>0</td>\n",
       "      <td>2020-01-01</td>\n",
       "      <td>0</td>\n",
       "      <td>10163</td>\n",
       "      <td>4.904167</td>\n",
       "      <td>52.556</td>\n",
       "      <td>13.384</td>\n",
       "    </tr>\n",
       "    <tr>\n",
       "      <th>1</th>\n",
       "      <td>1</td>\n",
       "      <td>1</td>\n",
       "      <td>2020-01-01</td>\n",
       "      <td>0</td>\n",
       "      <td>10386</td>\n",
       "      <td>4.488000</td>\n",
       "      <td>52.482</td>\n",
       "      <td>13.360</td>\n",
       "    </tr>\n",
       "    <tr>\n",
       "      <th>2</th>\n",
       "      <td>2</td>\n",
       "      <td>2</td>\n",
       "      <td>2020-01-01</td>\n",
       "      <td>0</td>\n",
       "      <td>11958</td>\n",
       "      <td>5.316667</td>\n",
       "      <td>52.576</td>\n",
       "      <td>13.348</td>\n",
       "    </tr>\n",
       "    <tr>\n",
       "      <th>3</th>\n",
       "      <td>3</td>\n",
       "      <td>3</td>\n",
       "      <td>2020-01-01</td>\n",
       "      <td>0</td>\n",
       "      <td>11991</td>\n",
       "      <td>5.100000</td>\n",
       "      <td>52.522</td>\n",
       "      <td>13.446</td>\n",
       "    </tr>\n",
       "    <tr>\n",
       "      <th>4</th>\n",
       "      <td>4</td>\n",
       "      <td>4</td>\n",
       "      <td>2020-01-01</td>\n",
       "      <td>0</td>\n",
       "      <td>12071</td>\n",
       "      <td>5.782500</td>\n",
       "      <td>52.560</td>\n",
       "      <td>13.378</td>\n",
       "    </tr>\n",
       "    <tr>\n",
       "      <th>...</th>\n",
       "      <td>...</td>\n",
       "      <td>...</td>\n",
       "      <td>...</td>\n",
       "      <td>...</td>\n",
       "      <td>...</td>\n",
       "      <td>...</td>\n",
       "      <td>...</td>\n",
       "      <td>...</td>\n",
       "    </tr>\n",
       "    <tr>\n",
       "      <th>183</th>\n",
       "      <td>183</td>\n",
       "      <td>183</td>\n",
       "      <td>2020-01-01</td>\n",
       "      <td>0</td>\n",
       "      <td>9393</td>\n",
       "      <td>5.175000</td>\n",
       "      <td>52.508</td>\n",
       "      <td>13.422</td>\n",
       "    </tr>\n",
       "    <tr>\n",
       "      <th>184</th>\n",
       "      <td>184</td>\n",
       "      <td>184</td>\n",
       "      <td>2020-01-01</td>\n",
       "      <td>0</td>\n",
       "      <td>9406</td>\n",
       "      <td>5.508000</td>\n",
       "      <td>52.480</td>\n",
       "      <td>13.350</td>\n",
       "    </tr>\n",
       "    <tr>\n",
       "      <th>185</th>\n",
       "      <td>185</td>\n",
       "      <td>185</td>\n",
       "      <td>2020-01-01</td>\n",
       "      <td>0</td>\n",
       "      <td>9768</td>\n",
       "      <td>3.791667</td>\n",
       "      <td>52.520</td>\n",
       "      <td>13.494</td>\n",
       "    </tr>\n",
       "    <tr>\n",
       "      <th>186</th>\n",
       "      <td>186</td>\n",
       "      <td>186</td>\n",
       "      <td>2020-01-01</td>\n",
       "      <td>0</td>\n",
       "      <td>9772</td>\n",
       "      <td>4.526316</td>\n",
       "      <td>52.588</td>\n",
       "      <td>13.370</td>\n",
       "    </tr>\n",
       "    <tr>\n",
       "      <th>187</th>\n",
       "      <td>187</td>\n",
       "      <td>187</td>\n",
       "      <td>2020-01-01</td>\n",
       "      <td>0</td>\n",
       "      <td>9808</td>\n",
       "      <td>7.070833</td>\n",
       "      <td>52.550</td>\n",
       "      <td>13.462</td>\n",
       "    </tr>\n",
       "  </tbody>\n",
       "</table>\n",
       "<p>188 rows × 8 columns</p>\n",
       "</div>"
      ],
      "text/plain": [
       "     Unnamed: 0.1  Unnamed: 0        date  hour  sensor_id  temperature_mean  \\\n",
       "0               0           0  2020-01-01     0      10163          4.904167   \n",
       "1               1           1  2020-01-01     0      10386          4.488000   \n",
       "2               2           2  2020-01-01     0      11958          5.316667   \n",
       "3               3           3  2020-01-01     0      11991          5.100000   \n",
       "4               4           4  2020-01-01     0      12071          5.782500   \n",
       "..            ...         ...         ...   ...        ...               ...   \n",
       "183           183         183  2020-01-01     0       9393          5.175000   \n",
       "184           184         184  2020-01-01     0       9406          5.508000   \n",
       "185           185         185  2020-01-01     0       9768          3.791667   \n",
       "186           186         186  2020-01-01     0       9772          4.526316   \n",
       "187           187         187  2020-01-01     0       9808          7.070833   \n",
       "\n",
       "        lat     lon  \n",
       "0    52.556  13.384  \n",
       "1    52.482  13.360  \n",
       "2    52.576  13.348  \n",
       "3    52.522  13.446  \n",
       "4    52.560  13.378  \n",
       "..      ...     ...  \n",
       "183  52.508  13.422  \n",
       "184  52.480  13.350  \n",
       "185  52.520  13.494  \n",
       "186  52.588  13.370  \n",
       "187  52.550  13.462  \n",
       "\n",
       "[188 rows x 8 columns]"
      ]
     },
     "execution_count": 8,
     "metadata": {},
     "output_type": "execute_result"
    }
   ],
   "source": [
    "#load saved data to compare\n",
    "compare = pd.read_csv(\"berlin2020.csv\")\n",
    "compare = compare[compare.date == \"2020-01-01\"]\n",
    "compare = compare[compare.hour == 0]\n",
    "compare"
   ]
  },
  {
   "cell_type": "code",
   "execution_count": 9,
   "id": "1526f7c8-3fec-4a66-be38-99e44149f0c5",
   "metadata": {},
   "outputs": [
    {
     "name": "stdout",
     "output_type": "stream",
     "text": [
      "Difference before dropping NaN: 8706\n",
      "Difference after dropping NaN: 4180\n"
     ]
    }
   ],
   "source": [
    "print(f\"Difference before dropping NaN: {len(raw)-len(compare)}\")\n",
    "raw = raw.dropna(subset=['temperature'])\n",
    "print(f\"Difference after dropping NaN: {len(raw)-len(compare)}\")"
   ]
  },
  {
   "cell_type": "code",
   "execution_count": 13,
   "id": "a3562189-30aa-4b55-8d16-4da5e5f7e9ba",
   "metadata": {},
   "outputs": [
    {
     "data": {
      "text/html": [
       "<div>\n",
       "<style scoped>\n",
       "    .dataframe tbody tr th:only-of-type {\n",
       "        vertical-align: middle;\n",
       "    }\n",
       "\n",
       "    .dataframe tbody tr th {\n",
       "        vertical-align: top;\n",
       "    }\n",
       "\n",
       "    .dataframe thead th {\n",
       "        text-align: right;\n",
       "    }\n",
       "</style>\n",
       "<table border=\"1\" class=\"dataframe\">\n",
       "  <thead>\n",
       "    <tr style=\"text-align: right;\">\n",
       "      <th></th>\n",
       "      <th>sensor_id</th>\n",
       "      <th>entry_count</th>\n",
       "    </tr>\n",
       "  </thead>\n",
       "  <tbody>\n",
       "    <tr>\n",
       "      <th>0</th>\n",
       "      <td>15845</td>\n",
       "      <td>100</td>\n",
       "    </tr>\n",
       "    <tr>\n",
       "      <th>1</th>\n",
       "      <td>15844</td>\n",
       "      <td>100</td>\n",
       "    </tr>\n",
       "    <tr>\n",
       "      <th>2</th>\n",
       "      <td>13369</td>\n",
       "      <td>58</td>\n",
       "    </tr>\n",
       "    <tr>\n",
       "      <th>3</th>\n",
       "      <td>2130</td>\n",
       "      <td>25</td>\n",
       "    </tr>\n",
       "    <tr>\n",
       "      <th>4</th>\n",
       "      <td>19728</td>\n",
       "      <td>25</td>\n",
       "    </tr>\n",
       "    <tr>\n",
       "      <th>...</th>\n",
       "      <td>...</td>\n",
       "      <td>...</td>\n",
       "    </tr>\n",
       "    <tr>\n",
       "      <th>183</th>\n",
       "      <td>13790</td>\n",
       "      <td>4</td>\n",
       "    </tr>\n",
       "    <tr>\n",
       "      <th>184</th>\n",
       "      <td>16473</td>\n",
       "      <td>4</td>\n",
       "    </tr>\n",
       "    <tr>\n",
       "      <th>185</th>\n",
       "      <td>13596</td>\n",
       "      <td>3</td>\n",
       "    </tr>\n",
       "    <tr>\n",
       "      <th>186</th>\n",
       "      <td>29391</td>\n",
       "      <td>2</td>\n",
       "    </tr>\n",
       "    <tr>\n",
       "      <th>187</th>\n",
       "      <td>19646</td>\n",
       "      <td>2</td>\n",
       "    </tr>\n",
       "  </tbody>\n",
       "</table>\n",
       "<p>188 rows × 2 columns</p>\n",
       "</div>"
      ],
      "text/plain": [
       "    sensor_id  entry_count\n",
       "0       15845          100\n",
       "1       15844          100\n",
       "2       13369           58\n",
       "3        2130           25\n",
       "4       19728           25\n",
       "..        ...          ...\n",
       "183     13790            4\n",
       "184     16473            4\n",
       "185     13596            3\n",
       "186     29391            2\n",
       "187     19646            2\n",
       "\n",
       "[188 rows x 2 columns]"
      ]
     },
     "execution_count": 13,
     "metadata": {},
     "output_type": "execute_result"
    }
   ],
   "source": [
    "#number of data points per sensor\n",
    "unique_sensors = raw[\"sensor_id\"].unique() #find unique sensors (np.array)\n",
    "len(unique_sensors)\n",
    "sensor_entry_counts = pd.DataFrame({\n",
    "    'sensor_id': unique_sensors,\n",
    "    'entry_count': [len(raw[raw.sensor_id == s]) for s in unique_sensors]\n",
    "}) #count number of entries for unique sensors (dataframe)\n",
    "sensor_entry_counts = sensor_entry_counts.sort_values(by='entry_count', ascending=False).reset_index(drop=True) #sort\n",
    "sensor_entry_counts"
   ]
  },
  {
   "cell_type": "code",
   "execution_count": 11,
   "id": "82d61efe-ce40-46e5-a244-aded8469d9de",
   "metadata": {},
   "outputs": [
    {
     "data": {
      "text/html": [
       "<div>\n",
       "<style scoped>\n",
       "    .dataframe tbody tr th:only-of-type {\n",
       "        vertical-align: middle;\n",
       "    }\n",
       "\n",
       "    .dataframe tbody tr th {\n",
       "        vertical-align: top;\n",
       "    }\n",
       "\n",
       "    .dataframe thead th {\n",
       "        text-align: right;\n",
       "    }\n",
       "</style>\n",
       "<table border=\"1\" class=\"dataframe\">\n",
       "  <thead>\n",
       "    <tr style=\"text-align: right;\">\n",
       "      <th></th>\n",
       "      <th>temperature</th>\n",
       "      <th>lat</th>\n",
       "      <th>lon</th>\n",
       "      <th>sensor_id</th>\n",
       "    </tr>\n",
       "  </thead>\n",
       "  <tbody>\n",
       "    <tr>\n",
       "      <th>2020-01-01 00:00:18+00:00</th>\n",
       "      <td>10.4</td>\n",
       "      <td>52.498</td>\n",
       "      <td>13.466</td>\n",
       "      <td>15845</td>\n",
       "    </tr>\n",
       "    <tr>\n",
       "      <th>2020-01-01 00:00:56+00:00</th>\n",
       "      <td>10.4</td>\n",
       "      <td>52.498</td>\n",
       "      <td>13.466</td>\n",
       "      <td>15845</td>\n",
       "    </tr>\n",
       "    <tr>\n",
       "      <th>2020-01-01 00:01:31+00:00</th>\n",
       "      <td>10.4</td>\n",
       "      <td>52.498</td>\n",
       "      <td>13.466</td>\n",
       "      <td>15845</td>\n",
       "    </tr>\n",
       "    <tr>\n",
       "      <th>2020-01-01 00:02:07+00:00</th>\n",
       "      <td>10.4</td>\n",
       "      <td>52.498</td>\n",
       "      <td>13.466</td>\n",
       "      <td>15845</td>\n",
       "    </tr>\n",
       "    <tr>\n",
       "      <th>2020-01-01 00:02:44+00:00</th>\n",
       "      <td>10.4</td>\n",
       "      <td>52.498</td>\n",
       "      <td>13.466</td>\n",
       "      <td>15845</td>\n",
       "    </tr>\n",
       "    <tr>\n",
       "      <th>...</th>\n",
       "      <td>...</td>\n",
       "      <td>...</td>\n",
       "      <td>...</td>\n",
       "      <td>...</td>\n",
       "    </tr>\n",
       "    <tr>\n",
       "      <th>2020-01-01 00:57:27+00:00</th>\n",
       "      <td>9.6</td>\n",
       "      <td>52.498</td>\n",
       "      <td>13.466</td>\n",
       "      <td>15845</td>\n",
       "    </tr>\n",
       "    <tr>\n",
       "      <th>2020-01-01 00:58:02+00:00</th>\n",
       "      <td>9.6</td>\n",
       "      <td>52.498</td>\n",
       "      <td>13.466</td>\n",
       "      <td>15845</td>\n",
       "    </tr>\n",
       "    <tr>\n",
       "      <th>2020-01-01 00:58:37+00:00</th>\n",
       "      <td>9.6</td>\n",
       "      <td>52.498</td>\n",
       "      <td>13.466</td>\n",
       "      <td>15845</td>\n",
       "    </tr>\n",
       "    <tr>\n",
       "      <th>2020-01-01 00:59:13+00:00</th>\n",
       "      <td>9.6</td>\n",
       "      <td>52.498</td>\n",
       "      <td>13.466</td>\n",
       "      <td>15845</td>\n",
       "    </tr>\n",
       "    <tr>\n",
       "      <th>2020-01-01 00:59:48+00:00</th>\n",
       "      <td>9.6</td>\n",
       "      <td>52.498</td>\n",
       "      <td>13.466</td>\n",
       "      <td>15845</td>\n",
       "    </tr>\n",
       "  </tbody>\n",
       "</table>\n",
       "<p>100 rows × 4 columns</p>\n",
       "</div>"
      ],
      "text/plain": [
       "                           temperature     lat     lon sensor_id\n",
       "2020-01-01 00:00:18+00:00         10.4  52.498  13.466     15845\n",
       "2020-01-01 00:00:56+00:00         10.4  52.498  13.466     15845\n",
       "2020-01-01 00:01:31+00:00         10.4  52.498  13.466     15845\n",
       "2020-01-01 00:02:07+00:00         10.4  52.498  13.466     15845\n",
       "2020-01-01 00:02:44+00:00         10.4  52.498  13.466     15845\n",
       "...                                ...     ...     ...       ...\n",
       "2020-01-01 00:57:27+00:00          9.6  52.498  13.466     15845\n",
       "2020-01-01 00:58:02+00:00          9.6  52.498  13.466     15845\n",
       "2020-01-01 00:58:37+00:00          9.6  52.498  13.466     15845\n",
       "2020-01-01 00:59:13+00:00          9.6  52.498  13.466     15845\n",
       "2020-01-01 00:59:48+00:00          9.6  52.498  13.466     15845\n",
       "\n",
       "[100 rows x 4 columns]"
      ]
     },
     "execution_count": 11,
     "metadata": {},
     "output_type": "execute_result"
    }
   ],
   "source": [
    "#data points for one sensor in one hour \n",
    "raw[raw.sensor_id == \"15845\"]"
   ]
  },
  {
   "cell_type": "code",
   "execution_count": 19,
   "id": "ed7df57e-452f-4419-8da7-162a25c10f12",
   "metadata": {},
   "outputs": [
    {
     "name": "stdout",
     "output_type": "stream",
     "text": [
      "Sum of all measurements: 1007.4000000000001\n",
      "Mean: 10.074000000000002\n"
     ]
    }
   ],
   "source": [
    "print(f\"Sum of all measurements: {raw[raw.sensor_id == '15845'].temperature.sum()}\")\n",
    "print(f\"Mean: {raw[raw.sensor_id == '15845'].temperature.mean()}\")"
   ]
  },
  {
   "cell_type": "code",
   "execution_count": 20,
   "id": "988c3cfd-03b8-42fc-973e-06d323eb4d67",
   "metadata": {},
   "outputs": [
    {
     "name": "stderr",
     "output_type": "stream",
     "text": [
      "/tmp/ipykernel_1521/4050028980.py:1: SettingWithCopyWarning: \n",
      "A value is trying to be set on a copy of a slice from a DataFrame.\n",
      "Try using .loc[row_indexer,col_indexer] = value instead\n",
      "\n",
      "See the caveats in the documentation: https://pandas.pydata.org/pandas-docs/stable/user_guide/indexing.html#returning-a-view-versus-a-copy\n",
      "  raw['date'] = raw.index.date\n",
      "/tmp/ipykernel_1521/4050028980.py:2: SettingWithCopyWarning: \n",
      "A value is trying to be set on a copy of a slice from a DataFrame.\n",
      "Try using .loc[row_indexer,col_indexer] = value instead\n",
      "\n",
      "See the caveats in the documentation: https://pandas.pydata.org/pandas-docs/stable/user_guide/indexing.html#returning-a-view-versus-a-copy\n",
      "  raw['hour'] = raw.index.hour\n"
     ]
    }
   ],
   "source": [
    "raw['date'] = raw.index.date\n",
    "raw['hour'] = raw.index.hour\n",
    "\n",
    "aggregated = raw.groupby(['date','hour','sensor_id']).agg(\n",
    "    temperature_mean=('temperature', 'mean'),\n",
    "    lat=('lat', 'first'),  # Assuming lat doesn't change for a sensor\n",
    "    lon=('lon', 'first')   # Assuming lon doesn't change for a sensor\n",
    ").reset_index()"
   ]
  },
  {
   "cell_type": "code",
   "execution_count": 23,
   "id": "f2afa4fe-ebfa-423e-9510-63bb133dc527",
   "metadata": {},
   "outputs": [
    {
     "data": {
      "text/html": [
       "<div>\n",
       "<style scoped>\n",
       "    .dataframe tbody tr th:only-of-type {\n",
       "        vertical-align: middle;\n",
       "    }\n",
       "\n",
       "    .dataframe tbody tr th {\n",
       "        vertical-align: top;\n",
       "    }\n",
       "\n",
       "    .dataframe thead th {\n",
       "        text-align: right;\n",
       "    }\n",
       "</style>\n",
       "<table border=\"1\" class=\"dataframe\">\n",
       "  <thead>\n",
       "    <tr style=\"text-align: right;\">\n",
       "      <th></th>\n",
       "      <th>date</th>\n",
       "      <th>hour</th>\n",
       "      <th>sensor_id</th>\n",
       "      <th>temperature_mean</th>\n",
       "      <th>lat</th>\n",
       "      <th>lon</th>\n",
       "    </tr>\n",
       "  </thead>\n",
       "  <tbody>\n",
       "    <tr>\n",
       "      <th>31</th>\n",
       "      <td>2020-01-01</td>\n",
       "      <td>0</td>\n",
       "      <td>15845</td>\n",
       "      <td>10.074</td>\n",
       "      <td>52.498</td>\n",
       "      <td>13.466</td>\n",
       "    </tr>\n",
       "  </tbody>\n",
       "</table>\n",
       "</div>"
      ],
      "text/plain": [
       "          date  hour sensor_id  temperature_mean     lat     lon\n",
       "31  2020-01-01     0     15845            10.074  52.498  13.466"
      ]
     },
     "execution_count": 23,
     "metadata": {},
     "output_type": "execute_result"
    }
   ],
   "source": [
    "aggregated[aggregated.sensor_id == '15845']"
   ]
  },
  {
   "cell_type": "code",
   "execution_count": null,
   "id": "7e91a0d2-462a-4162-9a7b-7a58cd286107",
   "metadata": {},
   "outputs": [],
   "source": []
  }
 ],
 "metadata": {
  "kernelspec": {
   "display_name": "Python 3 (ipykernel)",
   "language": "python",
   "name": "python3"
  },
  "language_info": {
   "codemirror_mode": {
    "name": "ipython",
    "version": 3
   },
   "file_extension": ".py",
   "mimetype": "text/x-python",
   "name": "python",
   "nbconvert_exporter": "python",
   "pygments_lexer": "ipython3",
   "version": "3.11.9"
  }
 },
 "nbformat": 4,
 "nbformat_minor": 5
}
